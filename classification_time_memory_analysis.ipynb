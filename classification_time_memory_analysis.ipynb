Model : Logistic Regression
Accuracy : 0.7249256064961921
Classification Report: 
               precision    recall  f1-score   support

           0       0.72      0.73      0.73     99595
           1       0.73      0.72      0.72     98675

    accuracy                           0.72    198270
   macro avg       0.72      0.72      0.72    198270
weighted avg       0.72      0.72      0.72    198270

Confusion Matrix: 
 [[72808 26787]
 [27752 70923]]
Model : Decision Tree
Accuracy : 0.6465072880415594
Classification Report: 
               precision    recall  f1-score   support

           0       0.65      0.65      0.65     99595
           1       0.64      0.64      0.64     98675

    accuracy                           0.65    198270
   macro avg       0.65      0.65      0.65    198270
weighted avg       0.65      0.65      0.65    198270

Confusion Matrix: 
 [[64593 35002]
 [35085 63590]]
Model : Random Forest Classifier
Accuracy : 0.7337469107782317
Classification Report: 
               precision    recall  f1-score   support

           0       0.73      0.74      0.74     99595
           1       0.73      0.73      0.73     98675

    accuracy                           0.73    198270
   macro avg       0.73      0.73      0.73    198270
weighted avg       0.73      0.73      0.73    198270

Confusion Matrix: 
 [[73443 26152]
 [26638 72037]]
Model: Logistic Regression
Elapsed Time: 3.6509 seconds
Max Memory Usage: 1898.95 MB
==================================================
Model: Decision Tree
Elapsed Time: 19.3248 seconds
Max Memory Usage: 2080.77 MB
==================================================
Model: Random Forest Classifier
Elapsed Time: 267.0183 seconds
Max Memory Usage: 2214.95 MB
==================================================
